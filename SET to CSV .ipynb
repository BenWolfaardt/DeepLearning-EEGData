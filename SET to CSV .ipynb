{
 "cells": [
  {
   "cell_type": "code",
   "execution_count": null,
   "metadata": {
    "collapsed": false
   },
   "outputs": [
    {
     "name": "stdout",
     "output_type": "stream",
     "text": [
      "Extracting parameters from G:\\a Data\\0 Preprocessed\\Leroy\\epoch\\L Test1 T01.set...\n",
      "29 matching events found\n",
      "No baseline correction applied\n",
      "Not setting metadata\n",
      "0 projection items activated\n",
      "Ready.\n",
      "Extracting parameters from G:\\a Data\\0 Preprocessed\\Leroy\\epoch\\L Test1 T02.set...\n",
      "29 matching events found\n",
      "No baseline correction applied\n",
      "Not setting metadata\n",
      "0 projection items activated\n",
      "Ready.\n",
      "Extracting parameters from G:\\a Data\\0 Preprocessed\\Leroy\\epoch\\L Test1 T03.set...\n",
      "27 matching events found\n",
      "No baseline correction applied\n",
      "Not setting metadata\n",
      "0 projection items activated\n",
      "Ready.\n",
      "Extracting parameters from G:\\a Data\\0 Preprocessed\\Leroy\\epoch\\L Test1 T04.set...\n",
      "24 matching events found\n",
      "No baseline correction applied\n",
      "Not setting metadata\n",
      "0 projection items activated\n",
      "Ready.\n",
      "Extracting parameters from G:\\a Data\\0 Preprocessed\\Leroy\\epoch\\L Test1 T05.set...\n",
      "27 matching events found\n",
      "No baseline correction applied\n",
      "Not setting metadata\n",
      "0 projection items activated\n",
      "Ready.\n"
     ]
    }
   ],
   "source": [
    "import mne\n",
    "import pandas as pd\n",
    "import numpy as np\n",
    "\n",
    "Numbers = [1,2,3,4,5,6]\n",
    "Triggers = [1,2,3,4,5,6,7,8,9,10,11,12,13,14,15,16,17,18]\n",
    "\n",
    "for number in Numbers:\n",
    "    for trigger in Triggers:\n",
    "        try:\n",
    "            if trigger <= Triggers[8]:\n",
    "                df = mne.io.read_epochs_eeglab('G:\\\\a Data\\\\0 Preprocessed\\\\Leroy\\\\epoch\\\\L Test{} T0{}.set'.format((number),(trigger)))\n",
    "            else:\n",
    "                df = mne.io.read_epochs_eeglab('G:\\\\a Data\\\\0 Preprocessed\\\\Leroy\\\\epoch\\\\L Test{} T{}.set'.format((number),(trigger)))\n",
    "                \n",
    "            i = 0\n",
    "            for epoch in df:\n",
    "                i=i+1\n",
    "                dfNew1 = pd.DataFrame(epoch)\n",
    "                if trigger <= Triggers[8]:\n",
    "                    np.savetxt(\"L Test\"+str(number)+\" T0\"+str(trigger)+\" E\"+format(i,'02d')+\".csv\",dfNew1,delimiter=',')\n",
    "                else:\n",
    "                    np.savetxt(\"L Test\"+str(number)+\" T\"+str(trigger)+\" E\"+format(i,'02d')+\".csv\",dfNew1,delimiter=',')\n",
    "\n",
    "        except IOError:\n",
    "            print(\"Error\")\n",
    "print(\"DONE\")  "
   ]
  },
  {
   "cell_type": "code",
   "execution_count": null,
   "metadata": {
    "collapsed": true
   },
   "outputs": [],
   "source": []
  },
  {
   "cell_type": "code",
   "execution_count": null,
   "metadata": {
    "collapsed": true
   },
   "outputs": [],
   "source": []
  },
  {
   "cell_type": "code",
   "execution_count": null,
   "metadata": {
    "collapsed": false
   },
   "outputs": [],
   "source": []
  },
  {
   "cell_type": "code",
   "execution_count": null,
   "metadata": {
    "collapsed": true
   },
   "outputs": [],
   "source": []
  },
  {
   "cell_type": "code",
   "execution_count": null,
   "metadata": {
    "collapsed": true
   },
   "outputs": [],
   "source": []
  }
 ],
 "metadata": {
  "kernelspec": {
   "display_name": "Python 3",
   "language": "python",
   "name": "python3"
  },
  "language_info": {
   "codemirror_mode": {
    "name": "ipython",
    "version": 3
   },
   "file_extension": ".py",
   "mimetype": "text/x-python",
   "name": "python",
   "nbconvert_exporter": "python",
   "pygments_lexer": "ipython3",
   "version": "3.4.4"
  }
 },
 "nbformat": 4,
 "nbformat_minor": 0
}
